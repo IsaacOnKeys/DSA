{
 "cells": [
  {
   "cell_type": "code",
   "execution_count": 50,
   "metadata": {},
   "outputs": [
    {
     "name": "stdout",
     "output_type": "stream",
     "text": [
      "1\n",
      "2\n",
      "3\n",
      "4\n",
      "5\n",
      "30\n"
     ]
    }
   ],
   "source": [
    "class ListNode:\n",
    "    def __init__(self, val:int=None, next=None):\n",
    "        self.val = val\n",
    "        self.next = next\n",
    "\n",
    "    def append(self, *args):\n",
    "        my_list = self\n",
    "        for value in args:\n",
    "            new_node = ListNode(value)\n",
    "            while my_list.next:\n",
    "                my_list = my_list.next\n",
    "            my_list.next = new_node\n",
    "        return my_list\n",
    "\n",
    "    def print_list(self):\n",
    "        head = self\n",
    "        while head:\n",
    "            print(head.val)\n",
    "            head = head.next\n",
    "\n",
    "    \n",
    "\n",
    "# my_list = ListNode(5)\n",
    "# my_list.append(1,2,3,4,5,6)\n",
    "# my_list.print_list()\n",
    "\n",
    "# head_3 = ListNode(1, ListNode(2, ListNode(3, ListNode(4, ListNode(5)))))\n",
    "# head_3.append(30)\n",
    "# head_3.print_list()\n",
    "\n",
    "head_3 = ListNode(1, ListNode(2, ListNode(3, ListNode(4, ListNode(5)))))\n",
    "head_3.append(30)\n",
    "head_3.print_list()\n"
   ]
  },
  {
   "cell_type": "code",
   "execution_count": null,
   "metadata": {},
   "outputs": [],
   "source": [
    "# Test Case 2: Single Element List\n",
    "print(\"Test Case 2: Single Element List - Append 20\")\n",
    "print(\"Description: Testing append method on a linked list with a single element (node).\")\n",
    "head_2 = ListNode(5)\n",
    "head_2.append(20)\n",
    "current = head_2\n",
    "while current:\n",
    "    print(current.val, end=\" -> \")\n",
    "    current = current.next\n",
    "print(\"None\")\n",
    "print(\"Expected Result: 5 -> 20\")"
   ]
  },
  {
   "cell_type": "code",
   "execution_count": null,
   "metadata": {},
   "outputs": [],
   "source": [
    "# Test Case 3: List with Multiple Elements\n",
    "print(\"Test Case 3: List with Multiple Elements - Append 30\")\n",
    "print(\"Description: Testing append method on a linked list with multiple elements.\")\n",
    "head_3 = ListNode(1, ListNode(2, ListNode(3, ListNode(4, ListNode(5)))))\n",
    "head_3.append(30)\n",
    "current = head_3\n",
    "while current:\n",
    "    print(current.val, end=\" -> \")\n",
    "    current = current.next\n",
    "print(\"None\")\n",
    "print(\"Expected Result: 1 -> 2 -> 3 -> 4 -> 5 -> 30\")"
   ]
  }
 ],
 "metadata": {
  "kernelspec": {
   "display_name": "Python 3.11.2 64-bit",
   "language": "python",
   "name": "python3"
  },
  "language_info": {
   "codemirror_mode": {
    "name": "ipython",
    "version": 3
   },
   "file_extension": ".py",
   "mimetype": "text/x-python",
   "name": "python",
   "nbconvert_exporter": "python",
   "pygments_lexer": "ipython3",
   "version": "3.11.2"
  },
  "orig_nbformat": 4,
  "vscode": {
   "interpreter": {
    "hash": "5238573367df39f7286bb46f9ff5f08f63a01a80960060ce41e3c79b190280fa"
   }
  }
 },
 "nbformat": 4,
 "nbformat_minor": 2
}
