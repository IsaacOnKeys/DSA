{
 "cells": [
  {
   "cell_type": "code",
   "execution_count": 39,
   "metadata": {},
   "outputs": [],
   "source": [
    "class ListNode:\n",
    "\tdef __init__(self, val, next=None):\n",
    "\t\tself.val = val\n",
    "\t\tself.next = next\n",
    "\t\n",
    "\tdef print_list(self):\n",
    "\t\thead = self\n",
    "\t\twhile head:\n",
    "\t\t\tprint(head.val)\n",
    "\t\t\thead = head.next\n",
    "\tdef append(self, value):\n",
    "\t\thead = self\n",
    "\t\tnew_node = ListNode(value)\n",
    "\t\twhile head.next:\n",
    "\t\t\thead = head.next\n",
    "\t\thead.next = new_node\n",
    "\tdef pop(self):\n",
    "\t\thead = self\n",
    "\t\ttemp = self\n",
    "\t\twhile head.next is not None:\n",
    "\t\t\ttemp = head\n",
    "\t\t\thead = head.next\n",
    "\t\ttemp.next = None\n",
    "\t\treturn head.val\n",
    "\n",
    "\n"
   ]
  },
  {
   "cell_type": "code",
   "execution_count": 40,
   "metadata": {},
   "outputs": [
    {
     "name": "stdout",
     "output_type": "stream",
     "text": [
      "5\n",
      "4\n"
     ]
    },
    {
     "data": {
      "text/plain": [
       "4"
      ]
     },
     "execution_count": 40,
     "metadata": {},
     "output_type": "execute_result"
    }
   ],
   "source": [
    "my_list = ListNode(4)\n",
    "my_list.append(5)\n",
    "my_list.pop()\n",
    "my_list.pop()"
   ]
  }
 ],
 "metadata": {
  "kernelspec": {
   "display_name": "Python 3.11.2 64-bit",
   "language": "python",
   "name": "python3"
  },
  "language_info": {
   "codemirror_mode": {
    "name": "ipython",
    "version": 3
   },
   "file_extension": ".py",
   "mimetype": "text/x-python",
   "name": "python",
   "nbconvert_exporter": "python",
   "pygments_lexer": "ipython3",
   "version": "3.11.2"
  },
  "orig_nbformat": 4,
  "vscode": {
   "interpreter": {
    "hash": "5238573367df39f7286bb46f9ff5f08f63a01a80960060ce41e3c79b190280fa"
   }
  }
 },
 "nbformat": 4,
 "nbformat_minor": 2
}
