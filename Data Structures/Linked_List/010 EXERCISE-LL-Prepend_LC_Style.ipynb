{
 "cells": [
  {
   "cell_type": "code",
   "execution_count": 2,
   "metadata": {},
   "outputs": [],
   "source": [
    "class ListNode:\n",
    "\tdef __init__(self, val):\n",
    "\t\tself.val = val\n",
    "\t\tself.next = next\n",
    "\t\n",
    "\t\n",
    "\tdef append(self, *args):\n",
    "\t\tmy_list = self\n",
    "\t\tfor value in args:\n",
    "\t\t\tnew_node = ListNode(value)\n",
    "\t\twhile my_list.next:\n",
    "\t\t\tmy_list = my_list.next\n",
    "\t\t\tmy_list.next = new_node\n",
    "\t\treturn my_list\n",
    "\n",
    "\tdef print_list(self):\n",
    "\t\thead = self\n",
    "\t\twhile head:\n",
    "\t\t\tprint(head.val)\n",
    "\t\t\thead = head.next"
   ]
  },
  {
   "cell_type": "code",
   "execution_count": 3,
   "metadata": {},
   "outputs": [
    {
     "ename": "AttributeError",
     "evalue": "'builtin_function_or_method' object has no attribute 'next'",
     "output_type": "error",
     "traceback": [
      "\u001b[1;31m---------------------------------------------------------------------------\u001b[0m",
      "\u001b[1;31mAttributeError\u001b[0m                            Traceback (most recent call last)",
      "Cell \u001b[1;32mIn[3], line 2\u001b[0m\n\u001b[0;32m      1\u001b[0m l \u001b[38;5;241m=\u001b[39m ListNode(\u001b[38;5;241m1\u001b[39m)\n\u001b[1;32m----> 2\u001b[0m \u001b[43ml\u001b[49m\u001b[38;5;241;43m.\u001b[39;49m\u001b[43mappend\u001b[49m\u001b[43m(\u001b[49m\u001b[38;5;241;43m2\u001b[39;49m\u001b[43m)\u001b[49m\n\u001b[0;32m      3\u001b[0m l\u001b[38;5;241m.\u001b[39mprint_list()\n",
      "Cell \u001b[1;32mIn[2], line 13\u001b[0m, in \u001b[0;36mListNode.append\u001b[1;34m(self, *args)\u001b[0m\n\u001b[0;32m     11\u001b[0m \u001b[38;5;28;01mwhile\u001b[39;00m my_list\u001b[38;5;241m.\u001b[39mnext:\n\u001b[0;32m     12\u001b[0m \tmy_list \u001b[38;5;241m=\u001b[39m my_list\u001b[38;5;241m.\u001b[39mnext\n\u001b[1;32m---> 13\u001b[0m \t\u001b[43mmy_list\u001b[49m\u001b[38;5;241;43m.\u001b[39;49m\u001b[43mnext\u001b[49m \u001b[38;5;241m=\u001b[39m new_node\n\u001b[0;32m     14\u001b[0m \u001b[38;5;28;01mreturn\u001b[39;00m my_list\n",
      "\u001b[1;31mAttributeError\u001b[0m: 'builtin_function_or_method' object has no attribute 'next'"
     ]
    }
   ],
   "source": [
    "l = ListNode(1)\n",
    "l.append(2)\n",
    "l.print_list()"
   ]
  }
 ],
 "metadata": {
  "kernelspec": {
   "display_name": "Python 3.12.3 64-bit",
   "language": "python",
   "name": "python3"
  },
  "language_info": {
   "codemirror_mode": {
    "name": "ipython",
    "version": 3
   },
   "file_extension": ".py",
   "mimetype": "text/x-python",
   "name": "python",
   "nbconvert_exporter": "python",
   "pygments_lexer": "ipython3",
   "version": "3.12.3"
  },
  "orig_nbformat": 4,
  "vscode": {
   "interpreter": {
    "hash": "3e29a103b67106846fe071a4fc1fba70346032d3f55f3ab3648972076dc57c03"
   }
  }
 },
 "nbformat": 4,
 "nbformat_minor": 2
}
