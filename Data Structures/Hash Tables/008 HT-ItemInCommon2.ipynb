{
 "cells": [
  {
   "cell_type": "code",
   "execution_count": null,
   "metadata": {},
   "outputs": [],
   "source": [
    "list1 = [1,3,5]\n",
    "list2 = [2,4,6]\n",
    "\n",
    "def item_in_common(list1, list2):\n",
    "\tmyDict = {}\n",
    "\tfor i in list1:\n",
    "\t\tmyDict[i] = True\n",
    "\tfor j in list2:\n",
    "\t\tif j in myDict:\n",
    "\t\t\treturn True\n",
    "\treturn False\n",
    "\n"
   ]
  }
 ],
 "metadata": {
  "kernelspec": {
   "display_name": "Python 3.11.2 64-bit",
   "language": "python",
   "name": "python3"
  },
  "language_info": {
   "name": "python",
   "version": "3.11.2"
  },
  "orig_nbformat": 4,
  "vscode": {
   "interpreter": {
    "hash": "5238573367df39f7286bb46f9ff5f08f63a01a80960060ce41e3c79b190280fa"
   }
  }
 },
 "nbformat": 4,
 "nbformat_minor": 2
}
