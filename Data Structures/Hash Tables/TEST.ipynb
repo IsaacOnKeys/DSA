{
 "cells": [
  {
   "cell_type": "code",
   "execution_count": null,
   "metadata": {},
   "outputs": [],
   "source": [
    "class ht:\n",
    "\tdef __init__(self, size = 7):\n",
    "\t\tself.data_map =[None] * size"
   ]
  },
  {
   "cell_type": "code",
   "execution_count": 13,
   "metadata": {},
   "outputs": [
    {
     "name": "stdout",
     "output_type": "stream",
     "text": [
      "3 n  =  110\n",
      "1 a  =  97\n",
      "1 i  =  105\n",
      "0 l  =  108\n",
      "6 s  =  115\n",
      "0    =  32\n",
      "5 a  =  97\n",
      "2 r  =  114\n",
      "1 e  =  101\n",
      "2    =  32\n",
      "3 f  =  102\n",
      "6 u  =  117\n",
      "2 n  =  110\n",
      "3    =  32\n",
      "4 f  =  102\n",
      "2 o  =  111\n",
      "6 r  =  114\n",
      "0    =  32\n",
      "4 k  =  107\n",
      "4 i  =  105\n",
      "1 d  =  100\n",
      "0 s  =  115\n"
     ]
    }
   ],
   "source": [
    "data_map = [None] * 7\n",
    "name= \"nails are fun for kids\"\n",
    "my_hash = 0\n",
    "for letter in name:\n",
    "\tmy_hash = (my_hash + ord(letter) * 23) % len(data_map)\n",
    "\tprint(my_hash, letter, ' = ', ord(letter))\n",
    "\n"
   ]
  },
  {
   "cell_type": "code",
   "execution_count": 1,
   "metadata": {},
   "outputs": [],
   "source": [
    "class HashTable:\n",
    "    def __init__(self, length=7):\n",
    "        self.data_map = [None] * length"
   ]
  },
  {
   "cell_type": "code",
   "execution_count": 2,
   "metadata": {},
   "outputs": [],
   "source": [
    "my_ht = HashTable()"
   ]
  },
  {
   "cell_type": "code",
   "execution_count": 7,
   "metadata": {},
   "outputs": [
    {
     "name": "stdout",
     "output_type": "stream",
     "text": [
      "[None, None, None, None, None, None, None]\n"
     ]
    }
   ],
   "source": [
    "print(my_ht.data_map)"
   ]
  },
  {
   "cell_type": "code",
   "execution_count": 8,
   "metadata": {},
   "outputs": [
    {
     "name": "stdout",
     "output_type": "stream",
     "text": [
      "None\n"
     ]
    }
   ],
   "source": []
  }
 ],
 "metadata": {
  "kernelspec": {
   "display_name": "Python 3.11.2 64-bit",
   "language": "python",
   "name": "python3"
  },
  "language_info": {
   "codemirror_mode": {
    "name": "ipython",
    "version": 3
   },
   "file_extension": ".py",
   "mimetype": "text/x-python",
   "name": "python",
   "nbconvert_exporter": "python",
   "pygments_lexer": "ipython3",
   "version": "3.11.2"
  },
  "orig_nbformat": 4,
  "vscode": {
   "interpreter": {
    "hash": "5238573367df39f7286bb46f9ff5f08f63a01a80960060ce41e3c79b190280fa"
   }
  }
 },
 "nbformat": 4,
 "nbformat_minor": 2
}
