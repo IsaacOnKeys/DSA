{
 "cells": [
  {
   "cell_type": "code",
   "execution_count": null,
   "metadata": {},
   "outputs": [],
   "source": [
    "\"\"\"\n",
    "A Hash Table stores a key-value pair at a Hash address in s a list of hashes\n",
    "\n",
    "DETERMINISTIC:\n",
    "\n",
    "You 'GET_ITEM() but running the key throught the hash, which is deterministic, which goes automatically to the address.\n",
    "\n",
    "COLLISIONS:\n",
    "\n",
    "When to different key:value pairs end up in the same address.\n",
    "2 WAYS TO DEAL WITH COLLISIONS:\n",
    "\tSEPERATE CHAINING:\n",
    "put everything at that address in a nested list \n",
    "\tLINEAR PROBING:\n",
    "If hashing a key:value pair causes a collision, the pair moves down the hash table until it finds an empty address.  \n",
    "OPEN ADDRESSING:\n",
    "A number of methods, like LINEAR PROBING that ensure you don't have more than 1 key:value pair at an address.\n",
    "\n",
    "PRIME NUMBERS:\n",
    "\n",
    "Your hash table should always have a prime nmber of addresses to increase randomness, and decrease the chances of a collision.\n",
    "\n",
    "\"\"\"\n"
   ]
  }
 ],
 "metadata": {
  "kernelspec": {
   "display_name": "Python 3.11.2 64-bit",
   "language": "python",
   "name": "python3"
  },
  "language_info": {
   "name": "python",
   "version": "3.11.2"
  },
  "orig_nbformat": 4,
  "vscode": {
   "interpreter": {
    "hash": "5238573367df39f7286bb46f9ff5f08f63a01a80960060ce41e3c79b190280fa"
   }
  }
 },
 "nbformat": 4,
 "nbformat_minor": 2
}
