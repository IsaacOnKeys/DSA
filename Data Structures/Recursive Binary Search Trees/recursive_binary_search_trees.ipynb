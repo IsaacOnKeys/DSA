{
 "cells": [
  {
   "cell_type": "code",
   "execution_count": 8,
   "metadata": {},
   "outputs": [],
   "source": [
    "class TreeNode:\n",
    "\n",
    "\tdef __init__(self, data, left=None, right=None):\n",
    "\t\tself.data = data\n",
    "\t\tself.left_child = left\n",
    "\t\tself.right_child = right\n",
    "\n",
    "class BinarySearchTree:\n",
    "\n",
    "\tdef __init__(self):\n",
    "\t\tself.root = None\n",
    "\n",
    "\tdef r_contains(self, value):\n",
    "\t\treturn self.__r_contains(self.root, value)\n",
    "\n",
    "\tdef __r_contains(self, current_node, value):\n",
    "\t\tif current_node == None:\n",
    "\t\t\treturn False\n",
    "\t\tif value == current_node.value:\n",
    "\t\t\treturn True \n",
    "\t\tif value < current_node.value:\n",
    "\t\t\treturn self.__r_contains(current_node.left, value)\n",
    "\t\tif value > current_node.value:\n",
    "\t\t\treturn self.__r_contains(current_node.right, value)\n",
    "\tdef r_insert(self, value):\n",
    "\t\tself.__r_insert(self.root, value)\n",
    "\tdef __r_insert(self, current_node, value):\n",
    "\t\tif current_node == None:\n",
    "\t\t\treturn TreeNode(value)\n",
    "\t\tif value < current_node.value:\n",
    "\t\t\tcurrent_node.left = self.__r_insert(current_node.left, value) \n",
    "\t\tif value > current_node.value:\n",
    "\t\t\tcurrent_node.right = self.__r_insert(current_node.left, value)\n",
    "\t\treturn current_node\n",
    "\n",
    "my_tree = BinarySearchTree()\n",
    "my_tree.r_insert(2)\n",
    "my_tree.r_insert(1)\n",
    "my_tree.r_insert(3)"
   ]
  }
 ],
 "metadata": {
  "kernelspec": {
   "display_name": "Python 3.11.2 64-bit",
   "language": "python",
   "name": "python3"
  },
  "language_info": {
   "codemirror_mode": {
    "name": "ipython",
    "version": 3
   },
   "file_extension": ".py",
   "mimetype": "text/x-python",
   "name": "python",
   "nbconvert_exporter": "python",
   "pygments_lexer": "ipython3",
   "version": "3.11.2"
  },
  "orig_nbformat": 4,
  "vscode": {
   "interpreter": {
    "hash": "5238573367df39f7286bb46f9ff5f08f63a01a80960060ce41e3c79b190280fa"
   }
  }
 },
 "nbformat": 4,
 "nbformat_minor": 2
}
