{
 "cells": [
  {
   "cell_type": "code",
   "execution_count": 4,
   "metadata": {},
   "outputs": [],
   "source": [
    "class Node:\n",
    "\t\n",
    "\tdef __init__(self, value):\n",
    "\t\tself.value = value\n",
    "\t\tself.next = None\n",
    "\n",
    "class Queue:\n",
    "\n",
    "\tdef __init__(self, value):\n",
    "\t\tnew_node = Node(value)\n",
    "\t\tself.first = new_node\n",
    "\t\tself.last = new_node\n",
    "\t\tself.length = 1\n",
    "\t\n",
    "\tdef print_queue(self):\n",
    "\t\ttemp = self.first\n",
    "\t\twhile temp is not None:\n",
    "\t\t\tprint(temp.value)\n",
    "\t\t\ttemp = temp.next\n",
    "\t\n",
    "\tdef enqueue(self, value):\n",
    "\t\tnew_node = Node(value)\n",
    "\t\tif self.first is None:\n",
    "\t\t\tself.first = self.last = new_node\n",
    "\t\telse:\n",
    "\t\t\tself.last.next = new_node\n",
    "\t\t\tself.last = new_node\n",
    "\t\tself.length += 1\n"
   ]
  },
  {
   "cell_type": "code",
   "execution_count": 5,
   "metadata": {},
   "outputs": [
    {
     "name": "stdout",
     "output_type": "stream",
     "text": [
      "Queue before enqueue(2):\n",
      "1\n",
      "\n",
      "Queue after enqueue(2):\n",
      "1\n",
      "2\n"
     ]
    }
   ],
   "source": [
    "my_queue = Queue(1)\n",
    "\n",
    "print('Queue before enqueue(2):')\n",
    "my_queue.print_queue()\n",
    "\n",
    "my_queue.enqueue(2)\n",
    "\n",
    "print('\\nQueue after enqueue(2):')\n",
    "my_queue.print_queue()"
   ]
  }
 ],
 "metadata": {
  "kernelspec": {
   "display_name": "Python 3.11.2 64-bit",
   "language": "python",
   "name": "python3"
  },
  "language_info": {
   "codemirror_mode": {
    "name": "ipython",
    "version": 3
   },
   "file_extension": ".py",
   "mimetype": "text/x-python",
   "name": "python",
   "nbconvert_exporter": "python",
   "pygments_lexer": "ipython3",
   "version": "3.11.2"
  },
  "orig_nbformat": 4,
  "vscode": {
   "interpreter": {
    "hash": "5238573367df39f7286bb46f9ff5f08f63a01a80960060ce41e3c79b190280fa"
   }
  }
 },
 "nbformat": 4,
 "nbformat_minor": 2
}
