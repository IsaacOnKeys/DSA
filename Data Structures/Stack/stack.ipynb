{
 "cells": [
  {
   "cell_type": "code",
   "execution_count": 4,
   "metadata": {},
   "outputs": [],
   "source": [
    "\"\"\"\n",
    "Stacks are LIFO\n",
    "Last In First Out\n",
    "\"\"\"\n",
    "\"\"\"\n",
    "List implementation:\n",
    "is you use a list, you add and remove from the end of the list. This is O(1). If you removed from the beginning, it is O(n), because you have to re-index all the following indeces.\n",
    "\"\"\"\n",
    "\"\"\"\"\n",
    "Linked List implementation:\n",
    "You want to implement the Stack so that you remove from the head, not the tail. That is because, if you remove from the tail, you have to reconnect everything starting at the head, so  O(n). If you use the head to add and remove, it is O(1)\n",
    "top = head\n",
    "bottom = tail = None # it is not needed, as it will not be accessed.\n",
    "\"\"\"\n",
    "class Node:\n",
    "\tdef __init__(self, value):\n",
    "\t\tself.value = value\n",
    "\t\tself.next = None\n",
    "\t\n",
    "class Stack:\n",
    "\t\n",
    "\tdef __init__(self, value):\n",
    "\t\tnew_node = Node(value)\n",
    "\t\tself.top = new_node\n",
    "\t\tself.height = 1\n",
    "\n",
    "\t\n",
    "\tdef print_stack(self):\n",
    "\t\ttemp = self.top\n",
    "\t\twhile temp is not None:\n",
    "\t\t\tprint(temp.value)\n",
    "\t\t\ttemp = temp.next\n",
    "\t\n",
    "\t\n",
    "\tdef push(self, value):\n",
    "\t\tnew_node = Node(value)\n",
    "\t\tif self.height == 0:\n",
    "\t\t\tself.top = new_node\n",
    "\t\telse:\n",
    "\t\t\tnew_node.next = self.top\n",
    "\t\t\tself.top = new_node\n",
    "\t\tself.height += 1\n",
    "\t\n",
    "\tdef pop(self):\n",
    "\t\tif self.height == 0:\n",
    "\t\t\treturn None\n",
    "\t\ttemp = self.top\n",
    "\t\tself.top = self.top.next\n",
    "\t\ttemp.next = None\n",
    "\t\tself.height -= 1\n",
    "\t\treturn temp"
   ]
  },
  {
   "cell_type": "code",
   "execution_count": 5,
   "metadata": {},
   "outputs": [
    {
     "name": "stdout",
     "output_type": "stream",
     "text": [
      "Stack before pop():\n",
      "1\n",
      "2\n",
      "3\n",
      "4\n",
      "\n",
      "Popped node:\n",
      "1\n",
      "\n",
      "Stack after pop():\n",
      "2\n",
      "3\n",
      "4\n"
     ]
    }
   ],
   "source": [
    "my_stack = Stack(4)\n",
    "my_stack.push(3)\n",
    "my_stack.push(2)\n",
    "my_stack.push(1)\n",
    "\n",
    "print('Stack before pop():')\n",
    "my_stack.print_stack()\n",
    "\n",
    "print('\\nPopped node:')\n",
    "print(my_stack.pop().value)\n",
    "\n",
    "print('\\nStack after pop():')\n",
    "my_stack.print_stack()"
   ]
  }
 ],
 "metadata": {
  "kernelspec": {
   "display_name": "Python 3.11.2 64-bit",
   "language": "python",
   "name": "python3"
  },
  "language_info": {
   "codemirror_mode": {
    "name": "ipython",
    "version": 3
   },
   "file_extension": ".py",
   "mimetype": "text/x-python",
   "name": "python",
   "nbconvert_exporter": "python",
   "pygments_lexer": "ipython3",
   "version": "3.11.2"
  },
  "orig_nbformat": 4,
  "vscode": {
   "interpreter": {
    "hash": "5238573367df39f7286bb46f9ff5f08f63a01a80960060ce41e3c79b190280fa"
   }
  }
 },
 "nbformat": 4,
 "nbformat_minor": 2
}
