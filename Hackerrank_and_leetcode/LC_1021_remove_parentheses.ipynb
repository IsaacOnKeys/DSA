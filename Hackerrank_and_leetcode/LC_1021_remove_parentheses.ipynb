{
 "cells": [
  {
   "cell_type": "code",
   "execution_count": 9,
   "metadata": {},
   "outputs": [],
   "source": [
    "\n",
    "def removeOuterParentheses(s: str) -> str:\n",
    "    open_paren = 0\n",
    "    close_paren = 0\n",
    "    strings = []\n",
    "    for index, letter in enumerate(s):\n",
    "        if letter == \"(\":\n",
    "            open_paren += 1\n",
    "            if open_paren != 0 and open_paren  == close_paren: \n",
    "                removed_chars = list(s[:index])\n",
    "                strings.append(removed_chars)\n",
    "        elif letter == \")\":\n",
    "            close_paren += 1\n",
    "            if (close_paren != 0) and (close_paren == open_paren):\n",
    "                removed_chars = list(s[:index])\n",
    "                strings.append(removed_chars)"
   ]
  },
  {
   "cell_type": "code",
   "execution_count": 12,
   "metadata": {},
   "outputs": [],
   "source": [
    "\n",
    "def removeOuterParentheses(s: str) -> str:\n",
    "\topen_paren, valid_parens = 0, []\n",
    "\tfor x in s:\n",
    "\t\tif x == ')':\n",
    "\t\t\topen_paren -= 1\n",
    "\t\tif open_paren > 0:\n",
    "\t\t\tvalid_parens.append(x)\n",
    "\t\tif x == '(':\n",
    "\t\t\topen_paren += 1\n",
    "\treturn ''.join(valid_parens)"
   ]
  },
  {
   "cell_type": "code",
   "execution_count": 16,
   "metadata": {},
   "outputs": [],
   "source": [
    "class Solution:\n",
    "    def removeOuterParentheses(self, s: str) -> str:\n",
    "        res = \"\"\n",
    "        count = 0\n",
    "        for char in s:\n",
    "            if char == '(' and count == 0:\n",
    "                count += 1\n",
    "            elif char == '(' and count >= 1:\n",
    "                res += char\n",
    "                count += 1\n",
    "            elif char == ')' and count > 1:\n",
    "                res += char\n",
    "                count -= 1\n",
    "            elif char == ')' and count == 1:\n",
    "                count -= 1\n",
    "        return res\n",
    "\n",
    "# Example usage:\n",
    "# sol = Solution()\n",
    "# result = sol.removeOuterParentheses(\"(()())(())\")\n",
    "# print(result)\n"
   ]
  },
  {
   "cell_type": "markdown",
   "metadata": {},
   "source": [
    "(()())(())\n",
    "popen = 0\n",
    "result = []\n",
    "\n",
    "\n",
    "()())(())\n",
    "popen = 1\n",
    "result = []\n",
    "\n",
    ")())(())\n",
    "popen = 2\n",
    "result = [\"(\"]\n",
    "\n",
    "())(())\n",
    "popen = 1\n",
    "result = [\"()\"]\n",
    "\n",
    "(((()"
   ]
  },
  {
   "cell_type": "code",
   "execution_count": 18,
   "metadata": {},
   "outputs": [
    {
     "name": "stdout",
     "output_type": "stream",
     "text": [
      "case 1: ()()()\n",
      "case 2: ()()()()(())\n",
      "case 3: \n",
      "case:4:((()\n"
     ]
    }
   ],
   "source": [
    "case1 = removeOuterParentheses(\"(()())(())\")\n",
    "case2 = removeOuterParentheses(\"(()())(())(()(()))\")\n",
    "case3 = removeOuterParentheses(\"()()\")\n",
    "case4 = removeOuterParentheses(\"(((()\")\n",
    "print(f\"case 1: {case1}\\ncase 2: {case2}\\ncase 3: {case3}\\ncase:4:{case4}\")"
   ]
  }
 ],
 "metadata": {
  "kernelspec": {
   "display_name": "Python 3.11.2 64-bit",
   "language": "python",
   "name": "python3"
  },
  "language_info": {
   "codemirror_mode": {
    "name": "ipython",
    "version": 3
   },
   "file_extension": ".py",
   "mimetype": "text/x-python",
   "name": "python",
   "nbconvert_exporter": "python",
   "pygments_lexer": "ipython3",
   "version": "3.11.2"
  },
  "orig_nbformat": 4,
  "vscode": {
   "interpreter": {
    "hash": "5238573367df39f7286bb46f9ff5f08f63a01a80960060ce41e3c79b190280fa"
   }
  }
 },
 "nbformat": 4,
 "nbformat_minor": 2
}
