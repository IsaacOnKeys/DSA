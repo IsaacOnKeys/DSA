{
 "cells": [
  {
   "cell_type": "code",
   "execution_count": 8,
   "metadata": {},
   "outputs": [
    {
     "name": "stdout",
     "output_type": "stream",
     "text": [
      "True\n",
      "False\n"
     ]
    }
   ],
   "source": [
    "class ListNode:\n",
    "    def __init__(self, val=0, next=None):\n",
    "        self.val = val\n",
    "        self.next = next\n",
    "\n",
    "def has_loop(head: ListNode()):\n",
    "\tslow = head\n",
    "\tfast = head.next\n",
    "\n",
    "\twhile slow and fast:\n",
    "\t\tif fast == slow:\n",
    "\t\t\treturn True\n",
    "\t\tfast = fast.next\n",
    "\t\tif fast == slow:\n",
    "\t\t\treturn True\n",
    "\t\tfast = fast.next\n",
    "\t\tif fast == slow:\n",
    "\t\t\treturn True\t\n",
    "\t\tslow = slow.next\n",
    "\treturn False\n",
    "\n",
    "# Create nodes\n",
    "node1 = ListNode(1)\n",
    "node2 = ListNode(2)\n",
    "node3 = ListNode(3)\n",
    "node4 = ListNode(4)\n",
    "node5 = ListNode(5)\n",
    "\n",
    "# Connect nodes to form a loop\n",
    "node1.next = node2\n",
    "node2.next = node3\n",
    "node3.next = node4\n",
    "node4.next = node5\n",
    "node5.next = node2  # Creating a loop\n",
    "\n",
    "# Head of the linked list\n",
    "head_w_loop = node1\n",
    "print(has_loop(head_w_loop))\n",
    "\n",
    "\n",
    "# Test Case 2: Linked list without a loop (should print False)\n",
    "head_without_loop = ListNode(1, ListNode(2, ListNode(3, ListNode(4, ListNode(5)))))\n",
    "print(has_loop(head_without_loop))\n"
   ]
  }
 ],
 "metadata": {
  "kernelspec": {
   "display_name": "Python 3.11.2 64-bit",
   "language": "python",
   "name": "python3"
  },
  "language_info": {
   "codemirror_mode": {
    "name": "ipython",
    "version": 3
   },
   "file_extension": ".py",
   "mimetype": "text/x-python",
   "name": "python",
   "nbconvert_exporter": "python",
   "pygments_lexer": "ipython3",
   "version": "3.11.2"
  },
  "orig_nbformat": 4,
  "vscode": {
   "interpreter": {
    "hash": "5238573367df39f7286bb46f9ff5f08f63a01a80960060ce41e3c79b190280fa"
   }
  }
 },
 "nbformat": 4,
 "nbformat_minor": 2
}
