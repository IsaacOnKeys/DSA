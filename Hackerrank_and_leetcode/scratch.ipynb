{
 "cells": [
  {
   "cell_type": "code",
   "execution_count": 3,
   "metadata": {},
   "outputs": [],
   "source": [
    "from typing import List\n",
    "def search(nums: List[int], target: int) -> int:\n",
    "\tlow, high = 0, (len(nums) -1)\n",
    "\n",
    "\twhile low <= high:\n",
    "\t\tmiddle = (low + high) // 2\n",
    "\t\tif target == nums[middle]:\n",
    "\t\t\treturn middle\n",
    "\t\telif nums[middle] < target:\n",
    "\t\t\tlow = middle + 1\n",
    "\t\telse: high = middle -1\n",
    "\treturn -1"
   ]
  },
  {
   "cell_type": "code",
   "execution_count": 4,
   "metadata": {},
   "outputs": [
    {
     "data": {
      "text/plain": [
       "4"
      ]
     },
     "execution_count": 4,
     "metadata": {},
     "output_type": "execute_result"
    }
   ],
   "source": [
    "search([-1,0,3,5,9,12], 9)"
   ]
  }
 ],
 "metadata": {
  "kernelspec": {
   "display_name": "Python 3.12.3 64-bit",
   "language": "python",
   "name": "python3"
  },
  "language_info": {
   "codemirror_mode": {
    "name": "ipython",
    "version": 3
   },
   "file_extension": ".py",
   "mimetype": "text/x-python",
   "name": "python",
   "nbconvert_exporter": "python",
   "pygments_lexer": "ipython3",
   "version": "3.12.3"
  },
  "orig_nbformat": 4,
  "vscode": {
   "interpreter": {
    "hash": "3e29a103b67106846fe071a4fc1fba70346032d3f55f3ab3648972076dc57c03"
   }
  }
 },
 "nbformat": 4,
 "nbformat_minor": 2
}
